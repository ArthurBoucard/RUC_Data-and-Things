{
 "cells": [
  {
   "cell_type": "code",
   "execution_count": 2,
   "metadata": {},
   "outputs": [],
   "source": [
    "# imports\n",
    "import pandas as pd\n",
    "import numpy as np\n",
    "import matplotlib.pyplot as plt\n",
    "from sklearn.preprocessing import MinMaxScaler\n",
    "from sklearn.neighbors import KNeighborsClassifier\n",
    "import time\n",
    "import paho.mqtt.client as mqtt"
   ]
  },
  {
   "attachments": {},
   "cell_type": "markdown",
   "metadata": {},
   "source": [
    "/!\\ Need to run publisher in other file"
   ]
  },
  {
   "cell_type": "code",
   "execution_count": 7,
   "metadata": {},
   "outputs": [
    {
     "name": "stdout",
     "output_type": "stream",
     "text": [
      "Connected with result code 0\n",
      "Number of correct classifications after 1000 messages: 791\n"
     ]
    }
   ],
   "source": [
    "\n",
    "#  • The subscriber continuously receives the data.\n",
    "\n",
    "# This function defines what to do when we connect to the broker\n",
    "def on_connect(client, userdata, flags, rc):\n",
    "    print(\"Connected with result code \" + str(rc))\n",
    "    client.subscribe(\"diabetesData\")\n",
    "\n",
    "last_five_records = []\n",
    "num_correct = 0\n",
    "num_message = 0\n",
    "stop_loop = False\n",
    "\n",
    "# This function defines what to do when we receives a message from the broker\n",
    "def on_message(client, userdata, msg):\n",
    "    global num_message, num_correct, last_five_records, stop_loop\n",
    "    if num_message == 1000:\n",
    "        print(\"Number of correct classifications after 1000 messages:\", num_correct)\n",
    "        stop_loop = True\n",
    "\n",
    "    # Parse the received message to get the latest record\n",
    "    latest_record = msg.payload.decode(\"utf-8\")\n",
    "    num_message += 1\n",
    "    \n",
    "    # Convert the latest record to a list of floats\n",
    "    latest_record = list(map(float, latest_record.split(\",\")))\n",
    "    \n",
    "    # Add the latest record to the last_five_records list\n",
    "    last_five_records.append(latest_record)\n",
    "    \n",
    "    # Keep only the last 5 records\n",
    "    last_five_records = last_five_records[-5:]\n",
    "    \n",
    "    # Check if there are 5 records in last_five_records\n",
    "    if len(last_five_records) == 5:\n",
    "        # Perform the 3NN classification on the last 5 records\n",
    "        predicted_outcome = perform_3nn_classification(last_five_records)\n",
    "        \n",
    "        # Compare the predicted outcome with the actual outcome in the latest record\n",
    "        if predicted_outcome == latest_record[-1]:\n",
    "            num_correct += 1\n",
    "\n",
    "def perform_3nn_classification(last_five_records):\n",
    "    # Extract the glucose, blood pressure, and insulin values from the last 5 records\n",
    "    X = [[record[0], record[1], record[2]] for record in last_five_records]\n",
    "    \n",
    "    # Extract the outcome labels from the last 5 records\n",
    "    y = [record[3] for record in last_five_records]\n",
    "    \n",
    "    # Normalize the glucose, blood pressure, and insulin values using MinMax\n",
    "    scaler = MinMaxScaler()\n",
    "    X_norm = scaler.fit_transform(X)\n",
    "    \n",
    "    # Perform the 3NN classification using the KNeighborsClassifier from scikit-learn\n",
    "    knn = KNeighborsClassifier(n_neighbors=3)\n",
    "    knn.fit(X_norm, y)\n",
    "    predicted_outcome = knn.predict([X_norm[-1]])\n",
    "    \n",
    "    return predicted_outcome[0]\n",
    "\n",
    "# We create a client as the data subscriber and specify its actions for particular events\n",
    "mqttc = mqtt.Client()\n",
    "mqttc.on_connect = on_connect\n",
    "mqttc.on_message = on_message\n",
    "\n",
    "# Now, we connect to the data broker.\n",
    "mqttc.connect(\"mqtt.eclipseprojects.io\", 1883, 60)\n",
    "\n",
    "# Loop forever until stop_loop is True\n",
    "while not stop_loop:\n",
    "    mqttc.loop()"
   ]
  }
 ],
 "metadata": {
  "kernelspec": {
   "display_name": "Python 3",
   "language": "python",
   "name": "python3"
  },
  "language_info": {
   "codemirror_mode": {
    "name": "ipython",
    "version": 3
   },
   "file_extension": ".py",
   "mimetype": "text/x-python",
   "name": "python",
   "nbconvert_exporter": "python",
   "pygments_lexer": "ipython3",
   "version": "3.11.2"
  },
  "orig_nbformat": 4
 },
 "nbformat": 4,
 "nbformat_minor": 2
}
