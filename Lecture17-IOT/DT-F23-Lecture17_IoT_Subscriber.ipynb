{
 "cells": [
  {
   "cell_type": "markdown",
   "metadata": {},
   "source": [
    "# Data & Things (RUC F2023)\n",
    "\n",
    "## Lecture 17: IoT and Data"
   ]
  },
  {
   "cell_type": "markdown",
   "metadata": {},
   "source": [
    "# Monitoring IoT Sensor Data\n",
    "## Data Subscriber Simulation\n",
    "\n",
    "This part of code simulates an IoT data subscriber that receives data sent out by a subscriber (see DT-F23-Lecture17_IoT_Publisher.ipynb) via a MQTT broker. Note a subscriber doesn't work without a subscriber or a broker.\n",
    "\n",
    "See DT-F23-Lecture17_IoT_Publisher.ipynb for more details about the subscriber and broker."
   ]
  },
  {
   "cell_type": "code",
   "execution_count": 7,
   "metadata": {},
   "outputs": [
    {
     "name": "stdout",
     "output_type": "stream",
     "text": [
      "Connected with result code 0\n",
      "Received myroom/temperature:  7\n",
      "Received myroom/temperature:  13\n",
      "Received myroom/temperature:  15\n",
      "Received myroom/temperature:  17\n",
      "Received myroom/temperature:  20\n",
      "Received myroom/temperature:  22\n",
      "Received myroom/temperature:  25\n",
      "Received myroom/temperature:  -10\n",
      "Received myroom/temperature:  -8\n",
      "Received myroom/temperature:  -7\n",
      "Received myroom/temperature:  -5\n",
      "Received myroom/temperature:  -2\n",
      "Received myroom/temperature:  0\n",
      "Received myroom/temperature:  1\n",
      "Received myroom/temperature:  3\n",
      "Received myroom/temperature:  5\n",
      "Received myroom/temperature:  6\n",
      "Received myroom/temperature:  7\n",
      "Received myroom/temperature:  13\n",
      "Received myroom/temperature:  15\n",
      "Received myroom/temperature:  17\n",
      "Received myroom/temperature:  20\n",
      "Received myroom/temperature:  22\n",
      "Received myroom/temperature:  25\n",
      "Received myroom/temperature:  -10\n",
      "Received myroom/temperature:  -8\n",
      "Received myroom/temperature:  -7\n",
      "Received myroom/temperature:  -5\n",
      "Received myroom/temperature:  -2\n",
      "Received myroom/temperature:  0\n",
      "Received myroom/temperature:  1\n",
      "Received myroom/temperature:  3\n",
      "Received myroom/temperature:  5\n",
      "Received myroom/temperature:  6\n",
      "Received myroom/temperature:  7\n",
      "Received myroom/temperature:  13\n",
      "Received myroom/temperature:  15\n",
      "Received myroom/temperature:  17\n",
      "Received myroom/temperature:  20\n",
      "Received myroom/temperature:  22\n",
      "Received myroom/temperature:  25\n",
      "Received myroom/temperature:  -10\n",
      "Received myroom/temperature:  -8\n",
      "Received myroom/temperature:  -7\n",
      "Received myroom/temperature:  -5\n",
      "Received myroom/temperature:  -2\n",
      "Received myroom/temperature:  0\n",
      "Received myroom/temperature:  1\n"
     ]
    },
    {
     "ename": "KeyboardInterrupt",
     "evalue": "",
     "output_type": "error",
     "traceback": [
      "\u001b[1;31m---------------------------------------------------------------------------\u001b[0m",
      "\u001b[1;31mKeyboardInterrupt\u001b[0m                         Traceback (most recent call last)",
      "\u001b[1;32m<ipython-input-7-a913ac612542>\u001b[0m in \u001b[0;36m<module>\u001b[1;34m\u001b[0m\n\u001b[0;32m     20\u001b[0m \u001b[1;33m\u001b[0m\u001b[0m\n\u001b[0;32m     21\u001b[0m \u001b[1;31m# As a simple example, we just keep the data listening/receiving on and on...\u001b[0m\u001b[1;33m\u001b[0m\u001b[1;33m\u001b[0m\u001b[1;33m\u001b[0m\u001b[0m\n\u001b[1;32m---> 22\u001b[1;33m \u001b[0mmqttc\u001b[0m\u001b[1;33m.\u001b[0m\u001b[0mloop_forever\u001b[0m\u001b[1;33m(\u001b[0m\u001b[1;33m)\u001b[0m\u001b[1;33m\u001b[0m\u001b[1;33m\u001b[0m\u001b[0m\n\u001b[0m",
      "\u001b[1;32m~\\Anaconda3\\lib\\site-packages\\paho\\mqtt\\client.py\u001b[0m in \u001b[0;36mloop_forever\u001b[1;34m(self, timeout, max_packets, retry_first_connection)\u001b[0m\n\u001b[0;32m   1754\u001b[0m             \u001b[0mrc\u001b[0m \u001b[1;33m=\u001b[0m \u001b[0mMQTT_ERR_SUCCESS\u001b[0m\u001b[1;33m\u001b[0m\u001b[1;33m\u001b[0m\u001b[0m\n\u001b[0;32m   1755\u001b[0m             \u001b[1;32mwhile\u001b[0m \u001b[0mrc\u001b[0m \u001b[1;33m==\u001b[0m \u001b[0mMQTT_ERR_SUCCESS\u001b[0m\u001b[1;33m:\u001b[0m\u001b[1;33m\u001b[0m\u001b[1;33m\u001b[0m\u001b[0m\n\u001b[1;32m-> 1756\u001b[1;33m                 \u001b[0mrc\u001b[0m \u001b[1;33m=\u001b[0m \u001b[0mself\u001b[0m\u001b[1;33m.\u001b[0m\u001b[0m_loop\u001b[0m\u001b[1;33m(\u001b[0m\u001b[0mtimeout\u001b[0m\u001b[1;33m)\u001b[0m\u001b[1;33m\u001b[0m\u001b[1;33m\u001b[0m\u001b[0m\n\u001b[0m\u001b[0;32m   1757\u001b[0m                 \u001b[1;31m# We don't need to worry about locking here, because we've\u001b[0m\u001b[1;33m\u001b[0m\u001b[1;33m\u001b[0m\u001b[1;33m\u001b[0m\u001b[0m\n\u001b[0;32m   1758\u001b[0m                 \u001b[1;31m# either called loop_forever() when in single threaded mode, or\u001b[0m\u001b[1;33m\u001b[0m\u001b[1;33m\u001b[0m\u001b[1;33m\u001b[0m\u001b[0m\n",
      "\u001b[1;32m~\\Anaconda3\\lib\\site-packages\\paho\\mqtt\\client.py\u001b[0m in \u001b[0;36m_loop\u001b[1;34m(self, timeout)\u001b[0m\n\u001b[0;32m   1148\u001b[0m \u001b[1;33m\u001b[0m\u001b[0m\n\u001b[0;32m   1149\u001b[0m         \u001b[1;32mtry\u001b[0m\u001b[1;33m:\u001b[0m\u001b[1;33m\u001b[0m\u001b[1;33m\u001b[0m\u001b[0m\n\u001b[1;32m-> 1150\u001b[1;33m             \u001b[0msocklist\u001b[0m \u001b[1;33m=\u001b[0m \u001b[0mselect\u001b[0m\u001b[1;33m.\u001b[0m\u001b[0mselect\u001b[0m\u001b[1;33m(\u001b[0m\u001b[0mrlist\u001b[0m\u001b[1;33m,\u001b[0m \u001b[0mwlist\u001b[0m\u001b[1;33m,\u001b[0m \u001b[1;33m[\u001b[0m\u001b[1;33m]\u001b[0m\u001b[1;33m,\u001b[0m \u001b[0mtimeout\u001b[0m\u001b[1;33m)\u001b[0m\u001b[1;33m\u001b[0m\u001b[1;33m\u001b[0m\u001b[0m\n\u001b[0m\u001b[0;32m   1151\u001b[0m         \u001b[1;32mexcept\u001b[0m \u001b[0mTypeError\u001b[0m\u001b[1;33m:\u001b[0m\u001b[1;33m\u001b[0m\u001b[1;33m\u001b[0m\u001b[0m\n\u001b[0;32m   1152\u001b[0m             \u001b[1;31m# Socket isn't correct type, in likelihood connection is lost\u001b[0m\u001b[1;33m\u001b[0m\u001b[1;33m\u001b[0m\u001b[1;33m\u001b[0m\u001b[0m\n",
      "\u001b[1;31mKeyboardInterrupt\u001b[0m: "
     ]
    }
   ],
   "source": [
    "import paho.mqtt.client as mqtt\n",
    "\n",
    "# This function defines what to do when we connect to the broker\n",
    "def on_connect(client, userdata, flags, rc):\n",
    "    print(\"Connected with result code \" + str(rc))\n",
    "    # We subscribe to this particular data. There may be other data published by the same subscriber or broker.\n",
    "    client.subscribe(\"myroom/temperature\")\n",
    "\n",
    "# This function defines what to do when we receives a message from the brokder\n",
    "def on_message(client, userdata, msg):\n",
    "    print(\"Received myroom/temperature: \", msg.payload.decode())\n",
    "\n",
    "# We create a client as the data subscriber and specify its actions for particular events\n",
    "mqttc = mqtt.Client()\n",
    "mqttc.on_connect = on_connect\n",
    "mqttc.on_message = on_message\n",
    "\n",
    "# Now, we connect to the data broker.\n",
    "mqttc.connect(\"mqtt.eclipseprojects.io\", 1883, 60)\n",
    "\n",
    "# As a simple example, we just keep the data listening/receiving on and on...\n",
    "mqttc.loop_forever()"
   ]
  },
  {
   "cell_type": "markdown",
   "metadata": {},
   "source": [
    "The subscriber will then keep receiving data from the broker, unitl the broker or publisher stops or we terminate the subscriber here explicitly."
   ]
  },
  {
   "cell_type": "markdown",
   "metadata": {},
   "source": [
    "#### Reference\n",
    "\n",
    "* https://medium.com/@tolgahan.cepel/monitoring-iot-sensor-data-with-plotly-dash-6c50761c0840"
   ]
  }
 ],
 "metadata": {
  "kernelspec": {
   "display_name": "Python 3",
   "language": "python",
   "name": "python3"
  },
  "language_info": {
   "codemirror_mode": {
    "name": "ipython",
    "version": 3
   },
   "file_extension": ".py",
   "mimetype": "text/x-python",
   "name": "python",
   "nbconvert_exporter": "python",
   "pygments_lexer": "ipython3",
   "version": "3.8.3"
  }
 },
 "nbformat": 4,
 "nbformat_minor": 4
}
