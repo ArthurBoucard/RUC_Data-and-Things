{
 "cells": [
  {
   "cell_type": "markdown",
   "metadata": {},
   "source": [
    "# Data & Things (RUC F2023)\n",
    "\n",
    "## Lecture 17: IoT and Data"
   ]
  },
  {
   "cell_type": "markdown",
   "metadata": {},
   "source": [
    "# Monitoring IoT Sensor Data\n",
    "## Web-based IoT Data Subscriber\n",
    "\n",
    "This part of code simulates a Web-based IoT data subscriber that receives data sent out by a subscriber (see DT-F23-Lecture17_IoT_Publisher.ipynb) via a MQTT broker. Note a subscriber doesn't work without a subscriber or a broker.\n",
    "\n",
    "See DT-F23-Lecture17_IoT_Publisher.ipynb for more details about the subscriber and broker.\n",
    "\n",
    "We use the **dash** and **dash-bootstrap-components** modules to create the web application. You need to install them:\n",
    "\n",
    "* pip install dash\n",
    "* pip install dash-bootstrap-components"
   ]
  },
  {
   "cell_type": "markdown",
   "metadata": {},
   "source": [
    "## 1. Initialization\n",
    "\n",
    "In the first part, we are importing the modules as usual. By now, you're supposed to already know mqtt and how to use it.\n",
    "\n",
    "The global variable *current_temperature* will store the temperature data."
   ]
  },
  {
   "cell_type": "code",
   "execution_count": 22,
   "metadata": {},
   "outputs": [],
   "source": [
    "import dash\n",
    "from dash import html, dcc, Input, Output\n",
    "\n",
    "import dash_bootstrap_components as dbc\n",
    "import paho.mqtt.client as mqtt\n",
    "\n",
    "global current_temperature\n",
    "current_temperature = \"NaN\""
   ]
  },
  {
   "cell_type": "markdown",
   "metadata": {},
   "source": [
    "## 2. Subscription\n",
    "\n",
    "The following code is similar to the countpart in DT-F23-Lecture17_IoT_Subscriber.ipynb. However, there are two tiny differences here:\n",
    "\n",
    "* In *on_message()* function, we declare the global variable *current_temperature* again and assign the received temperature to it.\n",
    "* Instead of loop_forever() , we used *loop_start()* that will prevent stucking in a loop and continue running following lines."
   ]
  },
  {
   "cell_type": "code",
   "execution_count": 23,
   "metadata": {},
   "outputs": [
    {
     "name": "stdout",
     "output_type": "stream",
     "text": [
      "Connected with result code 0\n"
     ]
    }
   ],
   "source": [
    "# -----------------------------------------------------------------------------\n",
    "# MQTT Subscribe\n",
    "# -----------------------------------------------------------------------------\n",
    "mqttc = mqtt.Client()\n",
    "mqttc.connect(\"mqtt.eclipseprojects.io\", 1883, 60)\n",
    "\n",
    "def on_connect(client, userdata, flags, rc):\n",
    "    print(\"Connected with result code \"+ str(rc))\n",
    "    mqttc.subscribe(\"myroom/temperature\")\n",
    "\n",
    "def on_message(client, userdata, msg):\n",
    "    global current_temperature\n",
    "    current_temperature = msg.payload.decode()\n",
    "\n",
    "mqttc.on_connect = on_connect\n",
    "mqttc.on_message = on_message\n",
    "\n",
    "mqttc.loop_start()"
   ]
  },
  {
   "cell_type": "markdown",
   "metadata": {},
   "source": [
    "## 2. Web App Creation\n",
    "\n",
    "The following code creates the Web app and decides the page layout."
   ]
  },
  {
   "cell_type": "code",
   "execution_count": 24,
   "metadata": {
    "scrolled": true
   },
   "outputs": [],
   "source": [
    "# -----------------------------------------------------------------------------\n",
    "# Defining Dash app\n",
    "# -----------------------------------------------------------------------------\n",
    "app = dash.Dash(external_stylesheets=[dbc.themes.DARKLY])\n",
    "\n",
    "# -----------------------------------------------------------------------------\n",
    "# Temperature card\n",
    "# -----------------------------------------------------------------------------\n",
    "card = dbc.Card(\n",
    "    html.H4(id=\"temperature\")\n",
    ")"
   ]
  },
  {
   "cell_type": "markdown",
   "metadata": {},
   "source": [
    "Below is the layout object. In a container component, we added dcc.Interval component that will fire the dynamic callback function periodically. We set interval to 3000 milliseconds (ms), i.e., 3 seconds.\n",
    "\n",
    "H1 is a header, and Hr is a horizontal break. Creating rows and columns is out of the scope of this post, but dbc.Row and dbc.Col are simply used for wrapping our temperature data card."
   ]
  },
  {
   "cell_type": "code",
   "execution_count": 25,
   "metadata": {},
   "outputs": [],
   "source": [
    "# -----------------------------------------------------------------------------\n",
    "# Application layout\n",
    "# -----------------------------------------------------------------------------\n",
    "app.layout = dbc.Container(\n",
    "    [\n",
    "        dcc.Interval(id='update', n_intervals=0, interval=1000*3),\n",
    "        html.H1(\"Monitoring IoT Sensor Data with Plotly Dash\"),\n",
    "        html.Hr(),\n",
    "        dbc.Row(dbc.Col(card, lg=4))\n",
    "    ]\n",
    ")"
   ]
  },
  {
   "cell_type": "markdown",
   "metadata": {},
   "source": [
    "Next, we define a callback function that takes the update id from dcc.Interval component that we recently defined as input, and outputs the temperature id we placed in a card. So, what will the function actually return? A string that contains the live temperature we recieved from \"myroom/temperature\" at the brokder side."
   ]
  },
  {
   "cell_type": "code",
   "execution_count": 26,
   "metadata": {},
   "outputs": [],
   "source": [
    "# -----------------------------------------------------------------------------\n",
    "# Callback for updating temperature data\n",
    "# -----------------------------------------------------------------------------\n",
    "@app.callback(\n",
    "    Output('temperature', 'children'),\n",
    "    Input('update', 'n_intervals')\n",
    ")\n",
    "\n",
    "def update_temperature(timer):\n",
    "    return (\"Temperature: \" + str(current_temperature) + \" at time \" + str(timer))"
   ]
  },
  {
   "cell_type": "markdown",
   "metadata": {},
   "source": [
    "Lastly, in the main function, run the app!"
   ]
  },
  {
   "cell_type": "code",
   "execution_count": 27,
   "metadata": {},
   "outputs": [
    {
     "name": "stdout",
     "output_type": "stream",
     "text": [
      "Dash is running on http://127.0.0.1:8050/\n",
      "\n",
      "Dash is running on http://127.0.0.1:8050/\n",
      "\n",
      "Dash is running on http://127.0.0.1:8050/\n",
      "\n",
      " * Serving Flask app \"__main__\" (lazy loading)\n",
      " * Environment: production\n",
      "   WARNING: This is a development server. Do not use it in a production deployment.\n",
      "   Use a production WSGI server instead.\n",
      " * Debug mode: off\n"
     ]
    }
   ],
   "source": [
    "# -----------------------------------------------------------------------------\n",
    "# Main function\n",
    "# -----------------------------------------------------------------------------\n",
    "if __name__ == \"__main__\":\n",
    "    app.run_server(debug=False)"
   ]
  },
  {
   "cell_type": "markdown",
   "metadata": {},
   "source": [
    "#### Reference\n",
    "\n",
    "* https://medium.com/@tolgahan.cepel/monitoring-iot-sensor-data-with-plotly-dash-6c50761c0840"
   ]
  }
 ],
 "metadata": {
  "kernelspec": {
   "display_name": "Python 3",
   "language": "python",
   "name": "python3"
  },
  "language_info": {
   "codemirror_mode": {
    "name": "ipython",
    "version": 3
   },
   "file_extension": ".py",
   "mimetype": "text/x-python",
   "name": "python",
   "nbconvert_exporter": "python",
   "pygments_lexer": "ipython3",
   "version": "3.8.3"
  }
 },
 "nbformat": 4,
 "nbformat_minor": 4
}
