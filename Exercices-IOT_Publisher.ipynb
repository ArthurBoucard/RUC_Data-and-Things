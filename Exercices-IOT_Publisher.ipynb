{
 "cells": [
  {
   "cell_type": "code",
   "execution_count": 1,
   "metadata": {},
   "outputs": [],
   "source": [
    "# imports\n",
    "import pandas as pd\n",
    "import numpy as np\n",
    "import matplotlib.pyplot as plt\n",
    "from sklearn.preprocessing import MinMaxScaler\n",
    "import time\n",
    "import paho.mqtt.client as mqtt"
   ]
  },
  {
   "cell_type": "code",
   "execution_count": 2,
   "metadata": {},
   "outputs": [],
   "source": [
    "\n",
    "# load the dataset\n",
    "df = pd.read_csv('data/diabetes.csv')"
   ]
  },
  {
   "cell_type": "code",
   "execution_count": 3,
   "metadata": {},
   "outputs": [
    {
     "name": "stdout",
     "output_type": "stream",
     "text": [
      "   Glucose  BloodPressure  Insulin  Outcome\n",
      "0      148             72        0        1\n",
      "1       85             66        0        0\n",
      "2      183             64        0        1\n",
      "3       89             66       94        0\n",
      "4      137             40      168        1\n"
     ]
    }
   ],
   "source": [
    "# 1. Select the following 4 attributes (3 features + 1 class label) :\n",
    "#   Glucose, BloodPressure, Insulin, Outcome\n",
    "df = df[['Glucose', 'BloodPressure', 'Insulin', 'Outcome']]\n",
    "print(df.head())"
   ]
  },
  {
   "cell_type": "code",
   "execution_count": 4,
   "metadata": {},
   "outputs": [
    {
     "name": "stdout",
     "output_type": "stream",
     "text": [
      "    Glucose  BloodPressure   Insulin  Outcome\n",
      "0  0.743719       0.590164  0.000000        1\n",
      "1  0.427136       0.540984  0.000000        0\n",
      "2  0.919598       0.524590  0.000000        1\n",
      "3  0.447236       0.540984  0.111111        0\n",
      "4  0.688442       0.327869  0.198582        1\n"
     ]
    }
   ],
   "source": [
    "\n",
    "# 2. Normalize Glucose, BloodPressure and Insulin to [0, 1] using MinMax.\n",
    "scaler = MinMaxScaler()\n",
    "df[['Glucose', 'BloodPressure', 'Insulin']] = scaler.fit_transform(df[['Glucose', 'BloodPressure', 'Insulin']])\n",
    "print(df.head())"
   ]
  },
  {
   "cell_type": "code",
   "execution_count": 5,
   "metadata": {},
   "outputs": [],
   "source": [
    "\n",
    "# 3. Store the new data (3 normalized features + 1 class label) in another dataset S.\n",
    "df.to_csv('data/diabetes_normalized.csv', index=False)"
   ]
  },
  {
   "cell_type": "code",
   "execution_count": null,
   "metadata": {},
   "outputs": [],
   "source": [
    "# 4. Modify the MQTT example to do the following:\n",
    "#  • The publisher publishes records in S continuously. When it reaches the end of S, it continues to send from the beginning again.\n",
    "\n",
    "# We create a client as the data publisher\n",
    "mqttc = mqtt.Client()\n",
    "# We are connecting to port 1883 and set *keepalive* parameter to 60; *keepalive* is the maximum waiting time in seconds.\n",
    "mqttc.connect(\"mqtt.eclipseprojects.io\", 1883, 60)\n",
    "\n",
    "# We send the following readings repeatedly. Once we reach the end, we start from the beginning again.\n",
    "data = df\n",
    "period = len(data)\n",
    "\n",
    "if __name__ == \"__main__\":\n",
    "    print(\"Publishing...\")\n",
    "    \n",
    "    index = 0\n",
    "    while (index >= 0):\n",
    "        # Get the current data reading to send out\n",
    "        glucose = data['Glucose'][index % period]\n",
    "        bloodPressure = data['BloodPressure'][index % period]\n",
    "        insulin = data['Insulin'][index % period]\n",
    "        outcome = data['Outcome'][index % period]\n",
    "        \n",
    "        # Publish the data reading\n",
    "        mqttc.publish(\"diabetesData\", str(glucose) + \",\" + str(bloodPressure) + \",\" + str(insulin) + \",\" + str(outcome))\n",
    "        \n",
    "        # We send the next reading after 2 seconds\n",
    "        # time.sleep(0.5)\n",
    "        index = index + 1"
   ]
  }
 ],
 "metadata": {
  "kernelspec": {
   "display_name": "Python 3",
   "language": "python",
   "name": "python3"
  },
  "language_info": {
   "codemirror_mode": {
    "name": "ipython",
    "version": 3
   },
   "file_extension": ".py",
   "mimetype": "text/x-python",
   "name": "python",
   "nbconvert_exporter": "python",
   "pygments_lexer": "ipython3",
   "version": "3.11.2"
  },
  "orig_nbformat": 4
 },
 "nbformat": 4,
 "nbformat_minor": 2
}
